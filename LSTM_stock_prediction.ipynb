{
  "nbformat": 4,
  "nbformat_minor": 5,
  "metadata": {
    "kernelspec": {
      "display_name": "Python 3.7 (tensorflow)",
      "language": "python",
      "name": "tensorflow"
    },
    "language_info": {
      "codemirror_mode": {
        "name": "ipython",
        "version": 3
      },
      "file_extension": ".py",
      "mimetype": "text/x-python",
      "name": "python",
      "nbconvert_exporter": "python",
      "pygments_lexer": "ipython3",
      "version": "3.7.7"
    },
    "colab": {
      "name": "LSTM stock prediction.ipynb",
      "provenance": [],
      "include_colab_link": true
    }
  },
  "cells": [
    {
      "cell_type": "markdown",
      "metadata": {
        "id": "view-in-github",
        "colab_type": "text"
      },
      "source": [
        "<a href=\"https://colab.research.google.com/github/henrykhlai/LSTM-rescale-precidtion/blob/main/LSTM_stock_prediction.ipynb\" target=\"_parent\"><img src=\"https://colab.research.google.com/assets/colab-badge.svg\" alt=\"Open In Colab\"/></a>"
      ]
    },
    {
      "cell_type": "code",
      "metadata": {
        "id": "hawaiian-census"
      },
      "source": [
        "import yfinance\n",
        "import numpy as np\n",
        "import matplotlib.pyplot as plt\n",
        "%matplotlib inline"
      ],
      "id": "hawaiian-census",
      "execution_count": null,
      "outputs": []
    },
    {
      "cell_type": "code",
      "metadata": {
        "colab": {
          "base_uri": "https://localhost:8080/"
        },
        "id": "0CwGH35_eM_s",
        "outputId": "075f2fb3-dac9-4338-9871-d8c2b66e6e19"
      },
      "source": [
        "pip install yfinance"
      ],
      "id": "0CwGH35_eM_s",
      "execution_count": null,
      "outputs": [
        {
          "output_type": "stream",
          "text": [
            "Collecting yfinance\n",
            "  Downloading https://files.pythonhosted.org/packages/a7/ee/315752b9ef281ba83c62aa7ec2e2074f85223da6e7e74efb4d3e11c0f510/yfinance-0.1.59.tar.gz\n",
            "Requirement already satisfied: pandas>=0.24 in /usr/local/lib/python3.7/dist-packages (from yfinance) (1.1.5)\n",
            "Requirement already satisfied: numpy>=1.15 in /usr/local/lib/python3.7/dist-packages (from yfinance) (1.19.5)\n",
            "Requirement already satisfied: requests>=2.20 in /usr/local/lib/python3.7/dist-packages (from yfinance) (2.23.0)\n",
            "Requirement already satisfied: multitasking>=0.0.7 in /usr/local/lib/python3.7/dist-packages (from yfinance) (0.0.9)\n",
            "Collecting lxml>=4.5.1\n",
            "\u001b[?25l  Downloading https://files.pythonhosted.org/packages/30/c0/d0526314971fc661b083ab135747dc68446a3022686da8c16d25fcf6ef07/lxml-4.6.3-cp37-cp37m-manylinux2014_x86_64.whl (6.3MB)\n",
            "\u001b[K     |████████████████████████████████| 6.3MB 8.0MB/s \n",
            "\u001b[?25hRequirement already satisfied: pytz>=2017.2 in /usr/local/lib/python3.7/dist-packages (from pandas>=0.24->yfinance) (2018.9)\n",
            "Requirement already satisfied: python-dateutil>=2.7.3 in /usr/local/lib/python3.7/dist-packages (from pandas>=0.24->yfinance) (2.8.1)\n",
            "Requirement already satisfied: certifi>=2017.4.17 in /usr/local/lib/python3.7/dist-packages (from requests>=2.20->yfinance) (2020.12.5)\n",
            "Requirement already satisfied: idna<3,>=2.5 in /usr/local/lib/python3.7/dist-packages (from requests>=2.20->yfinance) (2.10)\n",
            "Requirement already satisfied: chardet<4,>=3.0.2 in /usr/local/lib/python3.7/dist-packages (from requests>=2.20->yfinance) (3.0.4)\n",
            "Requirement already satisfied: urllib3!=1.25.0,!=1.25.1,<1.26,>=1.21.1 in /usr/local/lib/python3.7/dist-packages (from requests>=2.20->yfinance) (1.24.3)\n",
            "Requirement already satisfied: six>=1.5 in /usr/local/lib/python3.7/dist-packages (from python-dateutil>=2.7.3->pandas>=0.24->yfinance) (1.15.0)\n",
            "Building wheels for collected packages: yfinance\n",
            "  Building wheel for yfinance (setup.py) ... \u001b[?25l\u001b[?25hdone\n",
            "  Created wheel for yfinance: filename=yfinance-0.1.59-py2.py3-none-any.whl size=23442 sha256=c980425868e970684c91aa0bb277c5a7b3e5d35a661444cbcdb0b04f11f2db46\n",
            "  Stored in directory: /root/.cache/pip/wheels/f8/2a/0f/4b5a86e1d52e451757eb6bc17fd899629f0925c777741b6d04\n",
            "Successfully built yfinance\n",
            "Installing collected packages: lxml, yfinance\n",
            "  Found existing installation: lxml 4.2.6\n",
            "    Uninstalling lxml-4.2.6:\n",
            "      Successfully uninstalled lxml-4.2.6\n",
            "Successfully installed lxml-4.6.3 yfinance-0.1.59\n"
          ],
          "name": "stdout"
        }
      ]
    },
    {
      "cell_type": "code",
      "metadata": {
        "colab": {
          "base_uri": "https://localhost:8080/"
        },
        "id": "instructional-election",
        "outputId": "e6d40bcf-f217-4fc2-8296-aab0cc925cc0"
      },
      "source": [
        "raw_data = yfinance.download(tickers =\"aapl\", start=\"2010-01-01\",end=\"2021-5-10\",\n",
        "                             interval=\"1d\",group_by='ticker',auto_adjust=True, treads=True)"
      ],
      "id": "instructional-election",
      "execution_count": null,
      "outputs": [
        {
          "output_type": "stream",
          "text": [
            "\r[*********************100%***********************]  1 of 1 completed\n"
          ],
          "name": "stdout"
        }
      ]
    },
    {
      "cell_type": "code",
      "metadata": {
        "id": "forty-intensity"
      },
      "source": [
        "data = raw_data['Close'].values"
      ],
      "id": "forty-intensity",
      "execution_count": null,
      "outputs": []
    },
    {
      "cell_type": "code",
      "metadata": {
        "id": "manufactured-nudist"
      },
      "source": [
        "timeseries_data = data[:-20]"
      ],
      "id": "manufactured-nudist",
      "execution_count": null,
      "outputs": []
    },
    {
      "cell_type": "code",
      "metadata": {
        "id": "national-conference"
      },
      "source": [
        "import numpy as np\n",
        "import matplotlib.pyplot as plt\n",
        "from tensorflow.keras.models import Sequential\n",
        "from tensorflow.keras.layers import Dense\n",
        "from tensorflow.keras.layers import LSTM\n",
        "\n",
        "# scale and revert scale of input\n",
        "def rescale(x,a,b):\n",
        "    z = (x-a)/(b-a)\n",
        "    return z\n",
        "\n",
        "def revertscale(z,a,b):\n",
        "    x = z*(b-a)+a\n",
        "    return x\n",
        "\n",
        "# preparing independent and dependent features\n",
        "def prepare_data(timeseries_data, n_features):\n",
        "    X, y =[],[]\n",
        "    for i in range(len(timeseries_data)-n_features):        \n",
        "        # find the end of this pattern\n",
        "        end_ix = i + n_features\n",
        "        # gather input and output parts of the pattern\n",
        "        seq_x, seq_y = timeseries_data[i:end_ix], timeseries_data[end_ix]\n",
        "        X.append(seq_x)\n",
        "        y.append(seq_y)\n",
        "    return np.array(X), np.array(y)\n",
        "\n",
        "def LSTM_predict(timeseries_data, n_steps, n_features=1, predict_steps=20):\n",
        "    \n",
        "    # split into samples\n",
        "    X, y = prepare_data(timeseries_data, n_steps)\n",
        "\n",
        "    # reshape from [samples, timesteps] into [samples, timesteps, features]\n",
        "    X = X.reshape((X.shape[0], X.shape[1], n_features))\n",
        "\n",
        "    # define model\n",
        "    model = Sequential()\n",
        "    model.add(LSTM(50, activation='relu', input_shape=(n_steps, n_features)))\n",
        "    model.add(Dense(1))\n",
        "    model.compile(optimizer='adam', loss='mse')\n",
        "\n",
        "    # fit model\n",
        "    model.fit(X, y, epochs=200, verbose=0) # vervose = 0 make training Epoch not show\n",
        "\n",
        "    # Prediction\n",
        "    x_input = []\n",
        "    x_input = timeseries_data[-(n_steps):]\n",
        "    \n",
        "    '''for i in range(n_steps,0,-1):\n",
        "        x_input.append(timeseries_data[-i])\n",
        "    x_input = np.array(x_input) # matrix'''\n",
        "\n",
        "    x_input = x_input.reshape((1, n_steps, n_features)) # tensor\n",
        "    yhat = model.predict(x_input, verbose=0)\n",
        "\n",
        "\n",
        "    predict_output = []\n",
        "    predict_output.append(yhat)\n",
        "    x_input = x_input[0]\n",
        "\n",
        "    xx_input = np.append(x_input[-(n_steps-1):],yhat[0])\n",
        "    xx_input = xx_input.reshape(n_steps,n_features) #matrix\n",
        "    #xx_input = np.array([x_input[-2],x_input[-1],yhat[0]]) # matrix\n",
        "    #print(xx_input.shape)\n",
        "\n",
        "    for i in range(predict_steps):\n",
        "        xx_input = xx_input.reshape((1, n_steps, n_features)) # tensor\n",
        "        # LSTM model only accept tensor as input\n",
        "        yhat = model.predict(xx_input, verbose=0)\n",
        "\n",
        "        xx_input = xx_input[0]\n",
        "\n",
        "        xx_input = np.append(xx_input[-(n_steps-1):],yhat[0])\n",
        "        xx_input = xx_input.reshape(n_steps,n_features) #matrix\n",
        "\n",
        "        predict_output.append(yhat[0,0])\n",
        "\n",
        "    predict_output = np.array(predict_output, dtype=np.float32)\n",
        "    return predict_output"
      ],
      "id": "national-conference",
      "execution_count": null,
      "outputs": []
    },
    {
      "cell_type": "code",
      "metadata": {
        "id": "WpCjw3_8gdBM"
      },
      "source": [
        "# define input sequence\n",
        "timeseries_data = data[:-20]\n",
        "a = np.min(timeseries_data)\n",
        "b = np.max(timeseries_data)\n",
        "date_ahead = 5\n",
        "XX = rescale(timeseries_data,a,b)\n",
        "yy = LSTM_predict(XX, 25,1,date_ahead)\n",
        "predict_output = revertscale(yy,a,b)"
      ],
      "id": "WpCjw3_8gdBM",
      "execution_count": null,
      "outputs": []
    },
    {
      "cell_type": "code",
      "metadata": {
        "colab": {
          "base_uri": "https://localhost:8080/",
          "height": 307
        },
        "id": "rolled-flash",
        "outputId": "28529788-f9ce-4210-9d04-33eecc0046b2"
      },
      "source": [
        "import matplotlib.pyplot as plt\n",
        "exact_output = timeseries_data = data[-date_ahead-1:]\n",
        "plt.plot(predict_output, label ='predict output')\n",
        "plt.plot(exact_output, label = 'exact output')\n",
        "plt.legend()\n",
        "plt.show()    \n",
        "print('% error:\\n', (predict_output - exact_output)/exact_output * 100) "
      ],
      "id": "rolled-flash",
      "execution_count": null,
      "outputs": [
        {
          "output_type": "display_data",
          "data": {
            "image/png": "[encoded data removed]",
            "text/plain": [
              "<Figure size 432x288 with 1 Axes>"
            ]
          },
          "metadata": {
            "tags": [],
            "needs_background": "light"
          }
        },
        {
          "output_type": "stream",
          "text": [
            "% error:\n",
            " [1.21776533 0.47450173 4.23071982 4.18508025 3.07394139 2.75361305]\n"
          ],
          "name": "stdout"
        }
      ]
    },
    {
      "cell_type": "code",
      "metadata": {
        "colab": {
          "base_uri": "https://localhost:8080/",
          "height": 267
        },
        "id": "following-luxembourg",
        "outputId": "7a201ac6-8863-47a3-dd3d-9de34f90f80b"
      },
      "source": [
        "plt.plot(predict_output,label='predict')\n",
        "plt.plot(timeseries_data, label='exact price')\n",
        "plt.legend()\n",
        "plt.show()\n"
      ],
      "id": "following-luxembourg",
      "execution_count": null,
      "outputs": [
        {
          "output_type": "display_data",
          "data": {
            "image/png": "[encoded data removed]",
            "text/plain": [
              "<Figure size 432x288 with 1 Axes>"
            ]
          },
          "metadata": {
            "tags": [],
            "needs_background": "light"
          }
        }
      ]
    },
    {
      "cell_type": "code",
      "metadata": {
        "id": "tested-debate"
      },
      "source": [
        ""
      ],
      "id": "tested-debate",
      "execution_count": null,
      "outputs": []
    }
  ]
}