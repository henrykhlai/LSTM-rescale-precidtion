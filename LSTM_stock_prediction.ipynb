{
  "nbformat": 4,
  "nbformat_minor": 5,
  "metadata": {
    "kernelspec": {
      "name": "python3",
      "display_name": "Python 3"
    },
    "colab": {
      "name": "LSTM stock prediction.ipynb",
      "provenance": [],
      "collapsed_sections": [],
      "include_colab_link": true
    },
    "accelerator": "GPU",
    "language_info": {
      "name": "python"
    }
  },
  "cells": [
    {
      "cell_type": "markdown",
      "metadata": {
        "id": "view-in-github",
        "colab_type": "text"
      },
      "source": [
        "<a href=\"https://colab.research.google.com/github/henrykhlai/LSTM-rescale-precidtion/blob/main/LSTM_stock_prediction.ipynb\" target=\"_parent\"><img src=\"https://colab.research.google.com/assets/colab-badge.svg\" alt=\"Open In Colab\"/></a>"
      ]
    },
    {
      "cell_type": "code",
      "metadata": {
        "id": "hawaiian-census"
      },
      "source": [
        "import numpy as np\n",
        "import matplotlib.pyplot as plt\n",
        "%matplotlib inline"
      ],
      "id": "hawaiian-census",
      "execution_count": 2,
      "outputs": []
    },
    {
      "cell_type": "code",
      "metadata": {
        "id": "bpC5hZ-OHQD1"
      },
      "source": [
        "#import the python library\n",
        "%matplotlib inline\n",
        "from pandas_datareader import data as web\n",
        "import pandas as pd\n",
        "import numpy as np\n",
        "from datetime import datetime\n",
        "import matplotlib.pyplot as plt"
      ],
      "id": "bpC5hZ-OHQD1",
      "execution_count": 3,
      "outputs": []
    },
    {
      "cell_type": "code",
      "metadata": {
        "colab": {
          "base_uri": "https://localhost:8080/",
          "height": 540
        },
        "id": "7Xp3L-BKHrBj",
        "outputId": "195ba356-13f1-4f3a-f15a-e0498c3d2e12"
      },
      "source": [
        "#Get the stock symbols\n",
        "#FAANG\n",
        "assets =['FB','AMZN','AAPL','NFLX','GOOG','NKE','TSLA']\n",
        "#stock start date\n",
        "stockStartDate = '2000-01-01'\n",
        "#stock end date\n",
        "stockEndDate = datetime.today().strftime('%Y-%m-%d')\n",
        "#stockEndDate = '2018-12-31'\n",
        "#Create a dataframe to store the adjusted close price of the stocks\n",
        "df = pd.DataFrame()\n",
        "\n",
        "#store the adjust the close price\n",
        "for stock in assets:\n",
        "    df[stock] = web.DataReader(stock, data_source='yahoo', start = stockStartDate, end=stockEndDate)['Adj Close']\n",
        "df"
      ],
      "id": "7Xp3L-BKHrBj",
      "execution_count": 4,
      "outputs": [
        {
          "output_type": "execute_result",
          "data": {
            "text/html": [
              "<div>\n",
              "<style scoped>\n",
              "    .dataframe tbody tr th:only-of-type {\n",
              "        vertical-align: middle;\n",
              "    }\n",
              "\n",
              "    .dataframe tbody tr th {\n",
              "        vertical-align: top;\n",
              "    }\n",
              "\n",
              "    .dataframe thead th {\n",
              "        text-align: right;\n",
              "    }\n",
              "</style>\n",
              "<table border=\"1\" class=\"dataframe\">\n",
              "  <thead>\n",
              "    <tr style=\"text-align: right;\">\n",
              "      <th></th>\n",
              "      <th>FB</th>\n",
              "      <th>AMZN</th>\n",
              "      <th>AAPL</th>\n",
              "      <th>NFLX</th>\n",
              "      <th>GOOG</th>\n",
              "      <th>NKE</th>\n",
              "      <th>TSLA</th>\n",
              "    </tr>\n",
              "    <tr>\n",
              "      <th>Date</th>\n",
              "      <th></th>\n",
              "      <th></th>\n",
              "      <th></th>\n",
              "      <th></th>\n",
              "      <th></th>\n",
              "      <th></th>\n",
              "      <th></th>\n",
              "    </tr>\n",
              "  </thead>\n",
              "  <tbody>\n",
              "    <tr>\n",
              "      <th>2012-05-18</th>\n",
              "      <td>38.230000</td>\n",
              "      <td>213.850006</td>\n",
              "      <td>16.288403</td>\n",
              "      <td>9.994286</td>\n",
              "      <td>299.078979</td>\n",
              "      <td>23.707829</td>\n",
              "      <td>5.512000</td>\n",
              "    </tr>\n",
              "    <tr>\n",
              "      <th>2012-05-21</th>\n",
              "      <td>34.029999</td>\n",
              "      <td>218.110001</td>\n",
              "      <td>17.237370</td>\n",
              "      <td>10.248571</td>\n",
              "      <td>305.908386</td>\n",
              "      <td>24.110306</td>\n",
              "      <td>5.754000</td>\n",
              "    </tr>\n",
              "    <tr>\n",
              "      <th>2012-05-22</th>\n",
              "      <td>31.000000</td>\n",
              "      <td>215.330002</td>\n",
              "      <td>17.105009</td>\n",
              "      <td>9.672857</td>\n",
              "      <td>299.278229</td>\n",
              "      <td>24.384619</td>\n",
              "      <td>6.160000</td>\n",
              "    </tr>\n",
              "    <tr>\n",
              "      <th>2012-05-23</th>\n",
              "      <td>32.000000</td>\n",
              "      <td>217.279999</td>\n",
              "      <td>17.522364</td>\n",
              "      <td>10.272857</td>\n",
              "      <td>303.592072</td>\n",
              "      <td>24.175510</td>\n",
              "      <td>6.204000</td>\n",
              "    </tr>\n",
              "    <tr>\n",
              "      <th>2012-05-24</th>\n",
              "      <td>33.029999</td>\n",
              "      <td>215.240005</td>\n",
              "      <td>17.361441</td>\n",
              "      <td>10.038571</td>\n",
              "      <td>300.702881</td>\n",
              "      <td>24.166521</td>\n",
              "      <td>6.056000</td>\n",
              "    </tr>\n",
              "    <tr>\n",
              "      <th>...</th>\n",
              "      <td>...</td>\n",
              "      <td>...</td>\n",
              "      <td>...</td>\n",
              "      <td>...</td>\n",
              "      <td>...</td>\n",
              "      <td>...</td>\n",
              "      <td>...</td>\n",
              "    </tr>\n",
              "    <tr>\n",
              "      <th>2021-05-17</th>\n",
              "      <td>315.459991</td>\n",
              "      <td>3270.389893</td>\n",
              "      <td>126.269997</td>\n",
              "      <td>488.940002</td>\n",
              "      <td>2321.409912</td>\n",
              "      <td>136.410004</td>\n",
              "      <td>576.830017</td>\n",
              "    </tr>\n",
              "    <tr>\n",
              "      <th>2021-05-18</th>\n",
              "      <td>309.959991</td>\n",
              "      <td>3232.280029</td>\n",
              "      <td>124.849998</td>\n",
              "      <td>486.279999</td>\n",
              "      <td>2303.429932</td>\n",
              "      <td>135.559998</td>\n",
              "      <td>577.869995</td>\n",
              "    </tr>\n",
              "    <tr>\n",
              "      <th>2021-05-19</th>\n",
              "      <td>313.589996</td>\n",
              "      <td>3231.800049</td>\n",
              "      <td>124.690002</td>\n",
              "      <td>487.700012</td>\n",
              "      <td>2308.709961</td>\n",
              "      <td>132.960007</td>\n",
              "      <td>563.460022</td>\n",
              "    </tr>\n",
              "    <tr>\n",
              "      <th>2021-05-20</th>\n",
              "      <td>318.609985</td>\n",
              "      <td>3247.679932</td>\n",
              "      <td>127.309998</td>\n",
              "      <td>501.670013</td>\n",
              "      <td>2356.090088</td>\n",
              "      <td>133.270004</td>\n",
              "      <td>586.780029</td>\n",
              "    </tr>\n",
              "    <tr>\n",
              "      <th>2021-05-21</th>\n",
              "      <td>316.230011</td>\n",
              "      <td>3203.080078</td>\n",
              "      <td>125.430000</td>\n",
              "      <td>497.890015</td>\n",
              "      <td>2345.100098</td>\n",
              "      <td>132.660004</td>\n",
              "      <td>580.880005</td>\n",
              "    </tr>\n",
              "  </tbody>\n",
              "</table>\n",
              "<p>2267 rows × 7 columns</p>\n",
              "</div>"
            ],
            "text/plain": [
              "                    FB         AMZN  ...         NKE        TSLA\n",
              "Date                                 ...                        \n",
              "2012-05-18   38.230000   213.850006  ...   23.707829    5.512000\n",
              "2012-05-21   34.029999   218.110001  ...   24.110306    5.754000\n",
              "2012-05-22   31.000000   215.330002  ...   24.384619    6.160000\n",
              "2012-05-23   32.000000   217.279999  ...   24.175510    6.204000\n",
              "2012-05-24   33.029999   215.240005  ...   24.166521    6.056000\n",
              "...                ...          ...  ...         ...         ...\n",
              "2021-05-17  315.459991  3270.389893  ...  136.410004  576.830017\n",
              "2021-05-18  309.959991  3232.280029  ...  135.559998  577.869995\n",
              "2021-05-19  313.589996  3231.800049  ...  132.960007  563.460022\n",
              "2021-05-20  318.609985  3247.679932  ...  133.270004  586.780029\n",
              "2021-05-21  316.230011  3203.080078  ...  132.660004  580.880005\n",
              "\n",
              "[2267 rows x 7 columns]"
            ]
          },
          "metadata": {
            "tags": []
          },
          "execution_count": 4
        }
      ]
    },
    {
      "cell_type": "code",
      "metadata": {
        "id": "IjJglz6dImdG"
      },
      "source": [
        "data = df['AAPL'].values"
      ],
      "id": "IjJglz6dImdG",
      "execution_count": 5,
      "outputs": []
    },
    {
      "cell_type": "code",
      "metadata": {
        "id": "manufactured-nudist"
      },
      "source": [
        "timeseries_data = data[:-5]"
      ],
      "id": "manufactured-nudist",
      "execution_count": 6,
      "outputs": []
    },
    {
      "cell_type": "code",
      "metadata": {
        "id": "national-conference"
      },
      "source": [
        "import numpy as np\n",
        "import matplotlib.pyplot as plt\n",
        "from tensorflow.keras.models import Sequential\n",
        "from tensorflow.keras.layers import Dense\n",
        "from tensorflow.keras.layers import LSTM\n",
        "\n",
        "# scale and revert scale of input\n",
        "def rescale(x,a,b):\n",
        "    z = (x-a)/(b-a)\n",
        "    return z\n",
        "\n",
        "def revertscale(z,a,b):\n",
        "    x = z*(b-a)+a\n",
        "    return x\n",
        "\n",
        "# preparing independent and dependent features\n",
        "def prepare_data(timeseries_data, n_features):\n",
        "    X, y =[],[]\n",
        "    for i in range(len(timeseries_data)-n_features):        \n",
        "        # find the end of this pattern\n",
        "        end_ix = i + n_features\n",
        "        # gather input and output parts of the pattern\n",
        "        seq_x, seq_y = timeseries_data[i:end_ix], timeseries_data[end_ix]\n",
        "        X.append(seq_x)\n",
        "        y.append(seq_y)\n",
        "    return np.array(X), np.array(y)\n",
        "\n",
        "def LSTM_predict(timeseries_data, n_steps, n_features=1, predict_steps=20):\n",
        "    \n",
        "    # split into samples\n",
        "    X, y = prepare_data(timeseries_data, n_steps)\n",
        "\n",
        "    # reshape from [samples, timesteps] into [samples, timesteps, features]\n",
        "    X = X.reshape((X.shape[0], X.shape[1], n_features))\n",
        "\n",
        "    # define model\n",
        "    model = Sequential()\n",
        "    model.add(LSTM(50, activation='relu', input_shape=(n_steps, n_features)))\n",
        "    model.add(Dense(1))\n",
        "    model.compile(optimizer='adam', loss='mse')\n",
        "\n",
        "    # fit model\n",
        "    model.fit(X, y, epochs=200, verbose=0) # vervose = 0 make training Epoch not show\n",
        "\n",
        "    # Prediction\n",
        "    x_input = []\n",
        "    x_input = timeseries_data[-(n_steps):]\n",
        "    \n",
        "    '''for i in range(n_steps,0,-1):\n",
        "        x_input.append(timeseries_data[-i])\n",
        "    x_input = np.array(x_input) # matrix'''\n",
        "\n",
        "    x_input = x_input.reshape((1, n_steps, n_features)) # tensor\n",
        "    yhat = model.predict(x_input, verbose=0)\n",
        "\n",
        "\n",
        "    predict_output = []\n",
        "    predict_output.append(yhat)\n",
        "    x_input = x_input[0]\n",
        "\n",
        "    xx_input = np.append(x_input[-(n_steps-1):],yhat[0])\n",
        "    xx_input = xx_input.reshape(n_steps,n_features) #matrix\n",
        "    #xx_input = np.array([x_input[-2],x_input[-1],yhat[0]]) # matrix\n",
        "    #print(xx_input.shape)\n",
        "\n",
        "    for i in range(predict_steps):\n",
        "        xx_input = xx_input.reshape((1, n_steps, n_features)) # tensor\n",
        "        # LSTM model only accept tensor as input\n",
        "        yhat = model.predict(xx_input, verbose=0)\n",
        "\n",
        "        xx_input = xx_input[0]\n",
        "\n",
        "        xx_input = np.append(xx_input[-(n_steps-1):],yhat[0])\n",
        "        xx_input = xx_input.reshape(n_steps,n_features) #matrix\n",
        "\n",
        "        predict_output.append(yhat[0,0])\n",
        "\n",
        "    predict_output = np.array(predict_output, dtype=np.float32)\n",
        "    return predict_output"
      ],
      "id": "national-conference",
      "execution_count": 7,
      "outputs": []
    },
    {
      "cell_type": "markdown",
      "metadata": {
        "id": "1g9qqX9k5lIq"
      },
      "source": [
        "## AAPL"
      ],
      "id": "1g9qqX9k5lIq"
    },
    {
      "cell_type": "code",
      "metadata": {
        "id": "ppCPK2Es507F"
      },
      "source": [
        "data = df['AAPL'].values"
      ],
      "id": "ppCPK2Es507F",
      "execution_count": 56,
      "outputs": []
    },
    {
      "cell_type": "code",
      "metadata": {
        "id": "WpCjw3_8gdBM",
        "colab": {
          "base_uri": "https://localhost:8080/",
          "height": 397
        },
        "outputId": "66c78668-8850-4500-f4c0-ae273446aabb"
      },
      "source": [
        "# define input sequence\n",
        "date_ahead = 7\n",
        "timeseries_data = data[:-date_ahead]\n",
        "test_data = data[-(date_ahead+1):]\n",
        "a = np.min(timeseries_data)\n",
        "b = np.max(timeseries_data)\n",
        "\n",
        "XX = rescale(timeseries_data,a,b)\n",
        "yy = LSTM_predict(XX, 14, 1, date_ahead)\n",
        "predict_output = revertscale(yy,a,b)\n",
        "\n",
        "import matplotlib.pyplot as plt\n",
        "exact_output = test_data\n",
        "print(len(exact_output))\n",
        "plt.scatter(range(0,(date_ahead+1)),predict_output, label ='Apple predict output')\n",
        "plt.scatter(range(0,(date_ahead+1)), exact_output, label = 'Apple exact output')\n",
        "plt.legend()\n",
        "plt.show()    \n",
        "print('% error:\\n', (predict_output - exact_output)/exact_output * 100) "
      ],
      "id": "WpCjw3_8gdBM",
      "execution_count": 57,
      "outputs": [
        {
          "output_type": "stream",
          "text": [
            "WARNING:tensorflow:Layer lstm_8 will not use cuDNN kernel since it doesn't meet the cuDNN kernel criteria. It will use generic GPU kernel as fallback when running on GPU\n",
            "8\n"
          ],
          "name": "stdout"
        },
        {
          "output_type": "display_data",
          "data": {
            "image/png": "[encoded data removed]",
            "text/plain": [
              "<Figure size 432x288 with 1 Axes>"
            ]
          },
          "metadata": {
            "tags": [],
            "needs_background": "light"
          }
        },
        {
          "output_type": "stream",
          "text": [
            "% error:\n",
            " [ 1.23741363  0.59391695 -0.05344467  2.18715962  4.69218463  6.16133712\n",
            "  5.13339425  7.75230544]\n"
          ],
          "name": "stdout"
        }
      ]
    },
    {
      "cell_type": "code",
      "metadata": {
        "colab": {
          "base_uri": "https://localhost:8080/",
          "height": 355
        },
        "id": "rolled-flash",
        "outputId": "7248ec59-998c-4fe8-da6c-e4437741b4dc"
      },
      "source": [
        "import matplotlib.pyplot as plt\n",
        "exact_output = test_data\n",
        "print(len(exact_output))\n",
        "plt.scatter(range(0,(date_ahead+1)),predict_output, label ='Apple predict output')\n",
        "plt.scatter(range(0,(date_ahead+1)), exact_output, label = 'Apple exact output')\n",
        "plt.legend()\n",
        "plt.show()    \n",
        "print('% error:\\n', (predict_output - exact_output)/exact_output * 100) "
      ],
      "id": "rolled-flash",
      "execution_count": 58,
      "outputs": [
        {
          "output_type": "stream",
          "text": [
            "8\n"
          ],
          "name": "stdout"
        },
        {
          "output_type": "display_data",
          "data": {
            "image/png": "[encoded data removed]",
            "text/plain": [
              "<Figure size 432x288 with 1 Axes>"
            ]
          },
          "metadata": {
            "tags": [],
            "needs_background": "light"
          }
        },
        {
          "output_type": "stream",
          "text": [
            "% error:\n",
            " [ 1.23741363  0.59391695 -0.05344467  2.18715962  4.69218463  6.16133712\n",
            "  5.13339425  7.75230544]\n"
          ],
          "name": "stdout"
        }
      ]
    },
    {
      "cell_type": "markdown",
      "metadata": {
        "id": "o4tdtxCCPFhz"
      },
      "source": [
        "## Steps 14 business days"
      ],
      "id": "o4tdtxCCPFhz"
    },
    {
      "cell_type": "code",
      "metadata": {
        "id": "tested-debate",
        "colab": {
          "base_uri": "https://localhost:8080/",
          "height": 397
        },
        "outputId": "47413279-debe-4502-f483-4f962bd4ae73"
      },
      "source": [
        "# define input sequence\n",
        "date_ahead = 7\n",
        "timeseries_data = data[:-date_ahead]\n",
        "test_data = data[-(date_ahead+1):]\n",
        "a = np.min(timeseries_data)\n",
        "b = np.max(timeseries_data)\n",
        "\n",
        "XX = rescale(timeseries_data,a,b)\n",
        "yy = LSTM_predict(XX, 14, 1, date_ahead)\n",
        "predict_output = revertscale(yy,a,b)\n",
        "\n",
        "import matplotlib.pyplot as plt\n",
        "exact_output = test_data\n",
        "print(len(exact_output))\n",
        "plt.scatter(range(0,(date_ahead+1)),predict_output, label ='Apple predict output')\n",
        "plt.scatter(range(0,(date_ahead+1)), exact_output, label = 'Apple exact output')\n",
        "plt.legend()\n",
        "plt.show()    \n",
        "print('% error:\\n', (predict_output - exact_output)/exact_output * 100) "
      ],
      "id": "tested-debate",
      "execution_count": 59,
      "outputs": [
        {
          "output_type": "stream",
          "text": [
            "WARNING:tensorflow:Layer lstm_9 will not use cuDNN kernel since it doesn't meet the cuDNN kernel criteria. It will use generic GPU kernel as fallback when running on GPU\n",
            "8\n"
          ],
          "name": "stdout"
        },
        {
          "output_type": "display_data",
          "data": {
            "image/png": "[encoded data removed]",
            "text/plain": [
              "<Figure size 432x288 with 1 Axes>"
            ]
          },
          "metadata": {
            "tags": [],
            "needs_background": "light"
          }
        },
        {
          "output_type": "stream",
          "text": [
            "% error:\n",
            " [-0.19594563 -2.22872091 -4.26759427 -3.50133449 -2.52847365 -2.52338441\n",
            " -4.64374904 -3.32717755]\n"
          ],
          "name": "stdout"
        }
      ]
    },
    {
      "cell_type": "code",
      "metadata": {
        "id": "egurer80PCJ6",
        "colab": {
          "base_uri": "https://localhost:8080/",
          "height": 355
        },
        "outputId": "1c97baac-9768-475a-9c6b-9563e471d68c"
      },
      "source": [
        "import matplotlib.pyplot as plt\n",
        "exact_output = test_data\n",
        "print(len(exact_output))\n",
        "plt.scatter(range(0,(date_ahead+1)),predict_output, label ='Apple predict output')\n",
        "plt.scatter(range(0,(date_ahead+1)), exact_output, label = 'Apple exact output')\n",
        "plt.legend()\n",
        "plt.show()    \n",
        "print('% error:\\n', (predict_output - exact_output)/exact_output * 100) "
      ],
      "id": "egurer80PCJ6",
      "execution_count": 60,
      "outputs": [
        {
          "output_type": "stream",
          "text": [
            "8\n"
          ],
          "name": "stdout"
        },
        {
          "output_type": "display_data",
          "data": {
            "image/png": "[encoded data removed]",
            "text/plain": [
              "<Figure size 432x288 with 1 Axes>"
            ]
          },
          "metadata": {
            "tags": [],
            "needs_background": "light"
          }
        },
        {
          "output_type": "stream",
          "text": [
            "% error:\n",
            " [-0.19594563 -2.22872091 -4.26759427 -3.50133449 -2.52847365 -2.52338441\n",
            " -4.64374904 -3.32717755]\n"
          ],
          "name": "stdout"
        }
      ]
    },
    {
      "cell_type": "markdown",
      "metadata": {
        "id": "aol9js9MTGEI"
      },
      "source": [
        "## Amazon"
      ],
      "id": "aol9js9MTGEI"
    },
    {
      "cell_type": "code",
      "metadata": {
        "id": "h3wS4q0ETWPN"
      },
      "source": [
        "amazon = df['AMZN'].values"
      ],
      "id": "h3wS4q0ETWPN",
      "execution_count": 8,
      "outputs": []
    },
    {
      "cell_type": "code",
      "metadata": {
        "id": "AN_JiQQcThlW",
        "colab": {
          "base_uri": "https://localhost:8080/"
        },
        "outputId": "49d5a2b6-3aa8-4863-8b1b-b3e25dce751a"
      },
      "source": [
        "# define input sequence\n",
        "date_ahead = 7\n",
        "timeseries_data = amazon[:-date_ahead]\n",
        "test_data = amazon[-(date_ahead+1):]\n",
        "a = np.min(timeseries_data)\n",
        "b = np.max(timeseries_data)\n",
        "\n",
        "XX = rescale(timeseries_data,a,b)\n",
        "yy = LSTM_predict(XX, 14, 1, date_ahead)\n",
        "predict_output = revertscale(yy,a,b)"
      ],
      "id": "AN_JiQQcThlW",
      "execution_count": 53,
      "outputs": [
        {
          "output_type": "stream",
          "text": [
            "WARNING:tensorflow:Layer lstm_7 will not use cuDNN kernel since it doesn't meet the cuDNN kernel criteria. It will use generic GPU kernel as fallback when running on GPU\n"
          ],
          "name": "stdout"
        }
      ]
    },
    {
      "cell_type": "code",
      "metadata": {
        "id": "2HAB2ei1Tu2H",
        "colab": {
          "base_uri": "https://localhost:8080/",
          "height": 355
        },
        "outputId": "deb99c03-8958-415b-e109-2bd67369634d"
      },
      "source": [
        "import matplotlib.pyplot as plt\n",
        "exact_output = test_data\n",
        "print(len(exact_output))\n",
        "plt.scatter(range(0,(date_ahead+1)),predict_output, label ='Amazon predict output')\n",
        "plt.scatter(range(0,(date_ahead+1)), exact_output, label = 'Amazon exact output')\n",
        "plt.legend()\n",
        "plt.show()    \n",
        "print('% error:\\n', (predict_output - exact_output)/exact_output * 100) "
      ],
      "id": "2HAB2ei1Tu2H",
      "execution_count": 54,
      "outputs": [
        {
          "output_type": "stream",
          "text": [
            "8\n"
          ],
          "name": "stdout"
        },
        {
          "output_type": "display_data",
          "data": {
            "image/png": "[encoded data removed]",
            "text/plain": [
              "<Figure size 432x288 with 1 Axes>"
            ]
          },
          "metadata": {
            "tags": [],
            "needs_background": "light"
          }
        },
        {
          "output_type": "stream",
          "text": [
            "% error:\n",
            " [-0.64686105 -1.57155002 -3.9875167  -5.90131758 -5.31056537 -5.81089882\n",
            " -6.78138097 -5.99577768]\n"
          ],
          "name": "stdout"
        }
      ]
    },
    {
      "cell_type": "markdown",
      "metadata": {
        "id": "qs-fLJ2D9Gzp"
      },
      "source": [
        "7 days steps"
      ],
      "id": "qs-fLJ2D9Gzp"
    },
    {
      "cell_type": "code",
      "metadata": {
        "id": "nd2oX5QQ9KXn",
        "colab": {
          "base_uri": "https://localhost:8080/"
        },
        "outputId": "db84c034-4ba8-454f-94af-637d7d5a48e8"
      },
      "source": [
        "# define input sequence\n",
        "date_ahead = 7\n",
        "timeseries_data = amazon[:-date_ahead]\n",
        "test_data = amazon[-(date_ahead+1):]\n",
        "a = np.min(timeseries_data)\n",
        "b = np.max(timeseries_data)\n",
        "\n",
        "XX = rescale(timeseries_data,a,b)\n",
        "yy = LSTM_predict(XX, 7, 1, date_ahead)\n",
        "predict_output = revertscale(yy,a,b)\n"
      ],
      "id": "nd2oX5QQ9KXn",
      "execution_count": 51,
      "outputs": [
        {
          "output_type": "stream",
          "text": [
            "WARNING:tensorflow:Layer lstm_6 will not use cuDNN kernel since it doesn't meet the cuDNN kernel criteria. It will use generic GPU kernel as fallback when running on GPU\n"
          ],
          "name": "stdout"
        }
      ]
    },
    {
      "cell_type": "code",
      "metadata": {
        "id": "RxylBrOM-Vx2",
        "colab": {
          "base_uri": "https://localhost:8080/",
          "height": 355
        },
        "outputId": "ff90c388-49e8-4b04-e3cf-98e46b3edaf3"
      },
      "source": [
        "import matplotlib.pyplot as plt\n",
        "exact_output = test_data\n",
        "print(len(exact_output))\n",
        "plt.scatter(range(0,(date_ahead+1)),predict_output, label ='Amazon predict output')\n",
        "plt.scatter(range(0,(date_ahead+1)), exact_output, label = 'Amazon exact output')\n",
        "plt.legend()\n",
        "plt.show()    \n",
        "print('% error:\\n', (predict_output - exact_output)/exact_output * 100) "
      ],
      "id": "RxylBrOM-Vx2",
      "execution_count": 52,
      "outputs": [
        {
          "output_type": "stream",
          "text": [
            "8\n"
          ],
          "name": "stdout"
        },
        {
          "output_type": "display_data",
          "data": {
            "image/png": "[encoded data removed]",
            "text/plain": [
              "<Figure size 432x288 with 1 Axes>"
            ]
          },
          "metadata": {
            "tags": [],
            "needs_background": "light"
          }
        },
        {
          "output_type": "stream",
          "text": [
            "% error:\n",
            " [ -2.00198353  -4.1724311   -7.7094853  -10.65162323 -11.21577163\n",
            " -12.78381121 -14.75575601 -15.10628655]\n"
          ],
          "name": "stdout"
        }
      ]
    },
    {
      "cell_type": "markdown",
      "metadata": {
        "id": "PK9h9wdm4Nuw"
      },
      "source": [
        "## Future Prediction"
      ],
      "id": "PK9h9wdm4Nuw"
    },
    {
      "cell_type": "code",
      "metadata": {
        "colab": {
          "base_uri": "https://localhost:8080/"
        },
        "id": "-3IV8JAWpfcV",
        "outputId": "6849b248-4627-4a0f-cad8-009cf9ccc273"
      },
      "source": [
        "# define input sequence\n",
        "timeseries_data = amazon[:]\n",
        "a = np.min(timeseries_data)\n",
        "b = np.max(timeseries_data)\n",
        "date_ahead = 5\n",
        "XX = rescale(timeseries_data,a,b)\n",
        "yy = LSTM_predict(XX, 14,1,date_ahead)\n",
        "predict_output = revertscale(yy,a,b)"
      ],
      "id": "-3IV8JAWpfcV",
      "execution_count": 18,
      "outputs": [
        {
          "output_type": "stream",
          "text": [
            "WARNING:tensorflow:Layer lstm_2 will not use cuDNN kernel since it doesn't meet the cuDNN kernel criteria. It will use generic GPU kernel as fallback when running on GPU\n"
          ],
          "name": "stdout"
        }
      ]
    },
    {
      "cell_type": "code",
      "metadata": {
        "colab": {
          "base_uri": "https://localhost:8080/",
          "height": 265
        },
        "id": "O53L_6ROptcm",
        "outputId": "7056bf68-6ba8-4840-c69e-a0b4cec33583"
      },
      "source": [
        "import matplotlib.pyplot as plt\n",
        "exact_output = timeseries_data = amazon[-1:]\n",
        "plt.scatter(range(0,date_ahead+1),predict_output, label ='Amazon predict output')\n",
        "\n",
        "plt.scatter(range(0,1), exact_output, label = 'Amazon exact output')\n",
        "plt.legend()\n",
        "plt.show()    \n",
        "print('% error:\\n', (predict_output[0] - exact_output[0])/exact_output * 100) "
      ],
      "id": "O53L_6ROptcm",
      "execution_count": 39,
      "outputs": [
        {
          "output_type": "display_data",
          "data": {
            "image/png": "[encoded data removed]",
            "text/plain": [
              "<Figure size 432x288 with 1 Axes>"
            ]
          },
          "metadata": {
            "tags": [],
            "needs_background": "light"
          }
        }
      ]
    },
    {
      "cell_type": "code",
      "metadata": {
        "colab": {
          "base_uri": "https://localhost:8080/"
        },
        "id": "jh3f6LZUwZpT",
        "outputId": "2e84153d-2a78-40f7-fcff-168ba14c51fb"
      },
      "source": [
        "len(predict_output)"
      ],
      "id": "jh3f6LZUwZpT",
      "execution_count": 37,
      "outputs": [
        {
          "output_type": "execute_result",
          "data": {
            "text/plain": [
              "6"
            ]
          },
          "metadata": {
            "tags": []
          },
          "execution_count": 37
        }
      ]
    },
    {
      "cell_type": "code",
      "metadata": {
        "colab": {
          "base_uri": "https://localhost:8080/"
        },
        "id": "QpD3R-jPwkRA",
        "outputId": "8596dc64-d60e-4b62-bbaa-4205f084e554"
      },
      "source": [
        "test_data"
      ],
      "id": "QpD3R-jPwkRA",
      "execution_count": 48,
      "outputs": [
        {
          "output_type": "execute_result",
          "data": {
            "text/plain": [
              "array([], dtype=float64)"
            ]
          },
          "metadata": {
            "tags": []
          },
          "execution_count": 48
        }
      ]
    },
    {
      "cell_type": "code",
      "metadata": {
        "id": "K-Ku7azF2Nzo"
      },
      "source": [
        ""
      ],
      "id": "K-Ku7azF2Nzo",
      "execution_count": null,
      "outputs": []
    }
  ]
}