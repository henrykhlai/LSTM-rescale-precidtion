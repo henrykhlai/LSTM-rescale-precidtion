{
  "nbformat": 4,
  "nbformat_minor": 5,
  "metadata": {
    "kernelspec": {
      "display_name": "Python 3.7 (tensorflow)",
      "language": "python",
      "name": "tensorflow"
    },
    "language_info": {
      "codemirror_mode": {
        "name": "ipython",
        "version": 3
      },
      "file_extension": ".py",
      "mimetype": "text/x-python",
      "name": "python",
      "nbconvert_exporter": "python",
      "pygments_lexer": "ipython3",
      "version": "3.7.7"
    },
    "colab": {
      "name": "LSTM stock prediction.ipynb",
      "provenance": [],
      "include_colab_link": true
    },
    "accelerator": "GPU"
  },
  "cells": [
    {
      "cell_type": "markdown",
      "metadata": {
        "id": "view-in-github",
        "colab_type": "text"
      },
      "source": [
        "<a href=\"https://colab.research.google.com/github/henrykhlai/LSTM-rescale-precidtion/blob/main/LSTM_stock_prediction.ipynb\" target=\"_parent\"><img src=\"https://colab.research.google.com/assets/colab-badge.svg\" alt=\"Open In Colab\"/></a>"
      ]
    },
    {
      "cell_type": "code",
      "metadata": {
        "id": "hawaiian-census"
      },
      "source": [
        "import numpy as np\n",
        "import matplotlib.pyplot as plt\n",
        "%matplotlib inline"
      ],
      "id": "hawaiian-census",
      "execution_count": 2,
      "outputs": []
    },
    {
      "cell_type": "code",
      "metadata": {
        "id": "bpC5hZ-OHQD1"
      },
      "source": [
        "#import the python library\n",
        "%matplotlib inline\n",
        "from pandas_datareader import data as web\n",
        "import pandas as pd\n",
        "import numpy as np\n",
        "from datetime import datetime\n",
        "import matplotlib.pyplot as plt"
      ],
      "id": "bpC5hZ-OHQD1",
      "execution_count": 3,
      "outputs": []
    },
    {
      "cell_type": "code",
      "metadata": {
        "colab": {
          "base_uri": "https://localhost:8080/",
          "height": 497
        },
        "id": "7Xp3L-BKHrBj",
        "outputId": "9f0436b9-c7be-42e5-8950-adc6c2e50945"
      },
      "source": [
        "#Get the stock symbols\n",
        "#FAANG\n",
        "assets =['FB','AMZN','AAPL','NFLX','GOOG','NKE','TSLA']\n",
        "#stock start date\n",
        "stockStartDate = '2000-01-01'\n",
        "#stock end date\n",
        "stockEndDate = datetime.today().strftime('%Y-%m-%d')\n",
        "#stockEndDate = '2018-12-31'\n",
        "#Create a dataframe to store the adjusted close price of the stocks\n",
        "df = pd.DataFrame()\n",
        "\n",
        "#store the adjust the close price\n",
        "for stock in assets:\n",
        "    df[stock] = web.DataReader(stock, data_source='yahoo', start = stockStartDate, end=stockEndDate)['Adj Close']\n",
        "df"
      ],
      "id": "7Xp3L-BKHrBj",
      "execution_count": 4,
      "outputs": [
        {
          "output_type": "execute_result",
          "data": {
            "text/html": [
              "<div>\n",
              "<style scoped>\n",
              "    .dataframe tbody tr th:only-of-type {\n",
              "        vertical-align: middle;\n",
              "    }\n",
              "\n",
              "    .dataframe tbody tr th {\n",
              "        vertical-align: top;\n",
              "    }\n",
              "\n",
              "    .dataframe thead th {\n",
              "        text-align: right;\n",
              "    }\n",
              "</style>\n",
              "<table border=\"1\" class=\"dataframe\">\n",
              "  <thead>\n",
              "    <tr style=\"text-align: right;\">\n",
              "      <th></th>\n",
              "      <th>FB</th>\n",
              "      <th>AMZN</th>\n",
              "      <th>AAPL</th>\n",
              "      <th>NFLX</th>\n",
              "      <th>GOOG</th>\n",
              "      <th>NKE</th>\n",
              "      <th>TSLA</th>\n",
              "    </tr>\n",
              "    <tr>\n",
              "      <th>Date</th>\n",
              "      <th></th>\n",
              "      <th></th>\n",
              "      <th></th>\n",
              "      <th></th>\n",
              "      <th></th>\n",
              "      <th></th>\n",
              "      <th></th>\n",
              "    </tr>\n",
              "  </thead>\n",
              "  <tbody>\n",
              "    <tr>\n",
              "      <th>2012-05-18</th>\n",
              "      <td>38.230000</td>\n",
              "      <td>213.850006</td>\n",
              "      <td>16.288403</td>\n",
              "      <td>9.994286</td>\n",
              "      <td>299.078979</td>\n",
              "      <td>23.707829</td>\n",
              "      <td>5.512000</td>\n",
              "    </tr>\n",
              "    <tr>\n",
              "      <th>2012-05-21</th>\n",
              "      <td>34.029999</td>\n",
              "      <td>218.110001</td>\n",
              "      <td>17.237370</td>\n",
              "      <td>10.248571</td>\n",
              "      <td>305.908386</td>\n",
              "      <td>24.110306</td>\n",
              "      <td>5.754000</td>\n",
              "    </tr>\n",
              "    <tr>\n",
              "      <th>2012-05-22</th>\n",
              "      <td>31.000000</td>\n",
              "      <td>215.330002</td>\n",
              "      <td>17.105009</td>\n",
              "      <td>9.672857</td>\n",
              "      <td>299.278229</td>\n",
              "      <td>24.384619</td>\n",
              "      <td>6.160000</td>\n",
              "    </tr>\n",
              "    <tr>\n",
              "      <th>2012-05-23</th>\n",
              "      <td>32.000000</td>\n",
              "      <td>217.279999</td>\n",
              "      <td>17.522364</td>\n",
              "      <td>10.272857</td>\n",
              "      <td>303.592072</td>\n",
              "      <td>24.175510</td>\n",
              "      <td>6.204000</td>\n",
              "    </tr>\n",
              "    <tr>\n",
              "      <th>2012-05-24</th>\n",
              "      <td>33.029999</td>\n",
              "      <td>215.240005</td>\n",
              "      <td>17.361441</td>\n",
              "      <td>10.038571</td>\n",
              "      <td>300.702881</td>\n",
              "      <td>24.166521</td>\n",
              "      <td>6.056000</td>\n",
              "    </tr>\n",
              "    <tr>\n",
              "      <th>...</th>\n",
              "      <td>...</td>\n",
              "      <td>...</td>\n",
              "      <td>...</td>\n",
              "      <td>...</td>\n",
              "      <td>...</td>\n",
              "      <td>...</td>\n",
              "      <td>...</td>\n",
              "    </tr>\n",
              "    <tr>\n",
              "      <th>2021-05-14</th>\n",
              "      <td>315.940002</td>\n",
              "      <td>3222.899902</td>\n",
              "      <td>127.449997</td>\n",
              "      <td>493.369995</td>\n",
              "      <td>2316.159912</td>\n",
              "      <td>135.929993</td>\n",
              "      <td>589.739990</td>\n",
              "    </tr>\n",
              "    <tr>\n",
              "      <th>2021-05-17</th>\n",
              "      <td>315.459991</td>\n",
              "      <td>3270.389893</td>\n",
              "      <td>126.269997</td>\n",
              "      <td>488.940002</td>\n",
              "      <td>2321.409912</td>\n",
              "      <td>136.410004</td>\n",
              "      <td>576.830017</td>\n",
              "    </tr>\n",
              "    <tr>\n",
              "      <th>2021-05-18</th>\n",
              "      <td>309.959991</td>\n",
              "      <td>3232.280029</td>\n",
              "      <td>124.849998</td>\n",
              "      <td>486.279999</td>\n",
              "      <td>2303.429932</td>\n",
              "      <td>135.559998</td>\n",
              "      <td>577.869995</td>\n",
              "    </tr>\n",
              "    <tr>\n",
              "      <th>2021-05-19</th>\n",
              "      <td>313.589996</td>\n",
              "      <td>3231.800049</td>\n",
              "      <td>124.690002</td>\n",
              "      <td>487.700012</td>\n",
              "      <td>2308.709961</td>\n",
              "      <td>132.960007</td>\n",
              "      <td>563.460022</td>\n",
              "    </tr>\n",
              "    <tr>\n",
              "      <th>2021-05-20</th>\n",
              "      <td>318.609985</td>\n",
              "      <td>3247.679932</td>\n",
              "      <td>127.309998</td>\n",
              "      <td>501.670013</td>\n",
              "      <td>2356.090088</td>\n",
              "      <td>133.270004</td>\n",
              "      <td>586.780029</td>\n",
              "    </tr>\n",
              "  </tbody>\n",
              "</table>\n",
              "<p>2266 rows × 7 columns</p>\n",
              "</div>"
            ],
            "text/plain": [
              "                    FB         AMZN  ...         NKE        TSLA\n",
              "Date                                 ...                        \n",
              "2012-05-18   38.230000   213.850006  ...   23.707829    5.512000\n",
              "2012-05-21   34.029999   218.110001  ...   24.110306    5.754000\n",
              "2012-05-22   31.000000   215.330002  ...   24.384619    6.160000\n",
              "2012-05-23   32.000000   217.279999  ...   24.175510    6.204000\n",
              "2012-05-24   33.029999   215.240005  ...   24.166521    6.056000\n",
              "...                ...          ...  ...         ...         ...\n",
              "2021-05-14  315.940002  3222.899902  ...  135.929993  589.739990\n",
              "2021-05-17  315.459991  3270.389893  ...  136.410004  576.830017\n",
              "2021-05-18  309.959991  3232.280029  ...  135.559998  577.869995\n",
              "2021-05-19  313.589996  3231.800049  ...  132.960007  563.460022\n",
              "2021-05-20  318.609985  3247.679932  ...  133.270004  586.780029\n",
              "\n",
              "[2266 rows x 7 columns]"
            ]
          },
          "metadata": {
            "tags": []
          },
          "execution_count": 4
        }
      ]
    },
    {
      "cell_type": "code",
      "metadata": {
        "id": "IjJglz6dImdG"
      },
      "source": [
        "data = df['AAPL'].values"
      ],
      "id": "IjJglz6dImdG",
      "execution_count": 9,
      "outputs": []
    },
    {
      "cell_type": "code",
      "metadata": {
        "id": "manufactured-nudist"
      },
      "source": [
        "timeseries_data = data[:-20]"
      ],
      "id": "manufactured-nudist",
      "execution_count": 10,
      "outputs": []
    },
    {
      "cell_type": "code",
      "metadata": {
        "id": "national-conference"
      },
      "source": [
        "import numpy as np\n",
        "import matplotlib.pyplot as plt\n",
        "from tensorflow.keras.models import Sequential\n",
        "from tensorflow.keras.layers import Dense\n",
        "from tensorflow.keras.layers import LSTM\n",
        "\n",
        "# scale and revert scale of input\n",
        "def rescale(x,a,b):\n",
        "    z = (x-a)/(b-a)\n",
        "    return z\n",
        "\n",
        "def revertscale(z,a,b):\n",
        "    x = z*(b-a)+a\n",
        "    return x\n",
        "\n",
        "# preparing independent and dependent features\n",
        "def prepare_data(timeseries_data, n_features):\n",
        "    X, y =[],[]\n",
        "    for i in range(len(timeseries_data)-n_features):        \n",
        "        # find the end of this pattern\n",
        "        end_ix = i + n_features\n",
        "        # gather input and output parts of the pattern\n",
        "        seq_x, seq_y = timeseries_data[i:end_ix], timeseries_data[end_ix]\n",
        "        X.append(seq_x)\n",
        "        y.append(seq_y)\n",
        "    return np.array(X), np.array(y)\n",
        "\n",
        "def LSTM_predict(timeseries_data, n_steps, n_features=1, predict_steps=20):\n",
        "    \n",
        "    # split into samples\n",
        "    X, y = prepare_data(timeseries_data, n_steps)\n",
        "\n",
        "    # reshape from [samples, timesteps] into [samples, timesteps, features]\n",
        "    X = X.reshape((X.shape[0], X.shape[1], n_features))\n",
        "\n",
        "    # define model\n",
        "    model = Sequential()\n",
        "    model.add(LSTM(50, activation='relu', input_shape=(n_steps, n_features)))\n",
        "    model.add(Dense(1))\n",
        "    model.compile(optimizer='adam', loss='mse')\n",
        "\n",
        "    # fit model\n",
        "    model.fit(X, y, epochs=200, verbose=0) # vervose = 0 make training Epoch not show\n",
        "\n",
        "    # Prediction\n",
        "    x_input = []\n",
        "    x_input = timeseries_data[-(n_steps):]\n",
        "    \n",
        "    '''for i in range(n_steps,0,-1):\n",
        "        x_input.append(timeseries_data[-i])\n",
        "    x_input = np.array(x_input) # matrix'''\n",
        "\n",
        "    x_input = x_input.reshape((1, n_steps, n_features)) # tensor\n",
        "    yhat = model.predict(x_input, verbose=0)\n",
        "\n",
        "\n",
        "    predict_output = []\n",
        "    predict_output.append(yhat)\n",
        "    x_input = x_input[0]\n",
        "\n",
        "    xx_input = np.append(x_input[-(n_steps-1):],yhat[0])\n",
        "    xx_input = xx_input.reshape(n_steps,n_features) #matrix\n",
        "    #xx_input = np.array([x_input[-2],x_input[-1],yhat[0]]) # matrix\n",
        "    #print(xx_input.shape)\n",
        "\n",
        "    for i in range(predict_steps):\n",
        "        xx_input = xx_input.reshape((1, n_steps, n_features)) # tensor\n",
        "        # LSTM model only accept tensor as input\n",
        "        yhat = model.predict(xx_input, verbose=0)\n",
        "\n",
        "        xx_input = xx_input[0]\n",
        "\n",
        "        xx_input = np.append(xx_input[-(n_steps-1):],yhat[0])\n",
        "        xx_input = xx_input.reshape(n_steps,n_features) #matrix\n",
        "\n",
        "        predict_output.append(yhat[0,0])\n",
        "\n",
        "    predict_output = np.array(predict_output, dtype=np.float32)\n",
        "    return predict_output"
      ],
      "id": "national-conference",
      "execution_count": 7,
      "outputs": []
    },
    {
      "cell_type": "code",
      "metadata": {
        "id": "WpCjw3_8gdBM",
        "colab": {
          "base_uri": "https://localhost:8080/"
        },
        "outputId": "04863e45-da8f-4424-8d6e-0ff018abffa3"
      },
      "source": [
        "# define input sequence\n",
        "timeseries_data = data[:-20]\n",
        "a = np.min(timeseries_data)\n",
        "b = np.max(timeseries_data)\n",
        "date_ahead = 5\n",
        "XX = rescale(timeseries_data,a,b)\n",
        "yy = LSTM_predict(XX, 25,1,date_ahead)\n",
        "predict_output = revertscale(yy,a,b)"
      ],
      "id": "WpCjw3_8gdBM",
      "execution_count": 12,
      "outputs": [
        {
          "output_type": "stream",
          "text": [
            "WARNING:tensorflow:Layer lstm will not use cuDNN kernel since it doesn't meet the cuDNN kernel criteria. It will use generic GPU kernel as fallback when running on GPU\n"
          ],
          "name": "stdout"
        }
      ]
    },
    {
      "cell_type": "code",
      "metadata": {
        "colab": {
          "base_uri": "https://localhost:8080/",
          "height": 306
        },
        "id": "rolled-flash",
        "outputId": "e34c9c2f-fffb-4996-9a6e-2e4eccb754bd"
      },
      "source": [
        "import matplotlib.pyplot as plt\n",
        "exact_output = timeseries_data = data[-date_ahead-1:]\n",
        "plt.plot(predict_output, label ='AAPL predict output')\n",
        "plt.plot(exact_output, label = 'AAPL exact output')\n",
        "plt.legend()\n",
        "plt.show()    \n",
        "print('% error:\\n', (predict_output - exact_output)/exact_output * 100) "
      ],
      "id": "rolled-flash",
      "execution_count": 13,
      "outputs": [
        {
          "output_type": "display_data",
          "data": {
            "image/png": "[encoded data removed]",
            "text/plain": [
              "<Figure size 432x288 with 1 Axes>"
            ]
          },
          "metadata": {
            "tags": [],
            "needs_background": "light"
          }
        },
        {
          "output_type": "stream",
          "text": [
            "% error:\n",
            " [ 4.77653695  2.0896101   2.45916413  3.05994028  2.63362484 -0.20298789]\n"
          ],
          "name": "stdout"
        }
      ]
    },
    {
      "cell_type": "markdown",
      "metadata": {
        "id": "o4tdtxCCPFhz"
      },
      "source": [
        "## Steps 14 business days"
      ],
      "id": "o4tdtxCCPFhz"
    },
    {
      "cell_type": "code",
      "metadata": {
        "id": "tested-debate",
        "colab": {
          "base_uri": "https://localhost:8080/"
        },
        "outputId": "78498a12-79c6-4329-b281-37726059701b"
      },
      "source": [
        "# define input sequence\n",
        "timeseries_data = data[:-5]\n",
        "a = np.min(timeseries_data)\n",
        "b = np.max(timeseries_data)\n",
        "date_ahead = 5\n",
        "XX = rescale(timeseries_data,a,b)\n",
        "yy = LSTM_predict(XX, 14,1,date_ahead)\n",
        "predict_output = revertscale(yy,a,b)"
      ],
      "id": "tested-debate",
      "execution_count": 15,
      "outputs": [
        {
          "output_type": "stream",
          "text": [
            "WARNING:tensorflow:Layer lstm_1 will not use cuDNN kernel since it doesn't meet the cuDNN kernel criteria. It will use generic GPU kernel as fallback when running on GPU\n"
          ],
          "name": "stdout"
        }
      ]
    },
    {
      "cell_type": "code",
      "metadata": {
        "id": "TdETQ2PQTgRv"
      },
      "source": [
        ""
      ],
      "id": "TdETQ2PQTgRv",
      "execution_count": null,
      "outputs": []
    },
    {
      "cell_type": "code",
      "metadata": {
        "colab": {
          "base_uri": "https://localhost:8080/",
          "height": 306
        },
        "id": "egurer80PCJ6",
        "outputId": "aa451e40-a6ba-4f18-d117-2e9acf49ec67"
      },
      "source": [
        "import matplotlib.pyplot as plt\n",
        "exact_output = timeseries_data = data[-date_ahead-1:]\n",
        "plt.plot(predict_output, label ='AAPL predict output')\n",
        "plt.plot(exact_output, label = 'AAPL exact output')\n",
        "plt.legend()\n",
        "plt.show()    \n",
        "print('% error:\\n', (predict_output - exact_output)/exact_output * 100) "
      ],
      "id": "egurer80PCJ6",
      "execution_count": 16,
      "outputs": [
        {
          "output_type": "display_data",
          "data": {
            "image/png": "[encoded data removed]",
            "text/plain": [
              "<Figure size 432x288 with 1 Axes>"
            ]
          },
          "metadata": {
            "tags": [],
            "needs_background": "light"
          }
        },
        {
          "output_type": "stream",
          "text": [
            "% error:\n",
            " [-0.70083348 -2.93412932 -2.43730371 -1.76065162 -2.06314268 -4.66016099]\n"
          ],
          "name": "stdout"
        }
      ]
    },
    {
      "cell_type": "markdown",
      "metadata": {
        "id": "aol9js9MTGEI"
      },
      "source": [
        "## Amazon"
      ],
      "id": "aol9js9MTGEI"
    },
    {
      "cell_type": "code",
      "metadata": {
        "id": "h3wS4q0ETWPN"
      },
      "source": [
        "amazon = df['AMZN'].values"
      ],
      "id": "h3wS4q0ETWPN",
      "execution_count": 5,
      "outputs": []
    },
    {
      "cell_type": "code",
      "metadata": {
        "colab": {
          "base_uri": "https://localhost:8080/"
        },
        "id": "AN_JiQQcThlW",
        "outputId": "9bc60c73-1e67-4585-88ab-4c53cf268726"
      },
      "source": [
        "# define input sequence\n",
        "timeseries_data = amazon[:-5]\n",
        "a = np.min(timeseries_data)\n",
        "b = np.max(timeseries_data)\n",
        "date_ahead = 5\n",
        "XX = rescale(timeseries_data,a,b)\n",
        "yy = LSTM_predict(XX, 14,1,date_ahead)\n",
        "predict_output = revertscale(yy,a,b)"
      ],
      "id": "AN_JiQQcThlW",
      "execution_count": 21,
      "outputs": [
        {
          "output_type": "stream",
          "text": [
            "WARNING:tensorflow:Layer lstm_3 will not use cuDNN kernel since it doesn't meet the cuDNN kernel criteria. It will use generic GPU kernel as fallback when running on GPU\n"
          ],
          "name": "stdout"
        }
      ]
    },
    {
      "cell_type": "code",
      "metadata": {
        "colab": {
          "base_uri": "https://localhost:8080/",
          "height": 306
        },
        "id": "2HAB2ei1Tu2H",
        "outputId": "a89c9854-7efa-45ef-e45f-7e5b3c054908"
      },
      "source": [
        "import matplotlib.pyplot as plt\n",
        "exact_output = timeseries_data = amazon[-date_ahead-1:]\n",
        "plt.plot(predict_output, label ='Amazon predict output')\n",
        "plt.plot(exact_output, label = 'Amazon exact output')\n",
        "plt.legend()\n",
        "plt.show()    \n",
        "print('% error:\\n', (predict_output - exact_output)/exact_output * 100) "
      ],
      "id": "2HAB2ei1Tu2H",
      "execution_count": 20,
      "outputs": [
        {
          "output_type": "display_data",
          "data": {
            "image/png": "[encoded data removed]",
            "text/plain": [
              "<Figure size 432x288 with 1 Axes>"
            ]
          },
          "metadata": {
            "tags": [],
            "needs_background": "light"
          }
        },
        {
          "output_type": "stream",
          "text": [
            "% error:\n",
            " [ 0.12100192 -1.63262656 -2.96668654 -1.76015277 -1.70046307 -2.22565243]\n"
          ],
          "name": "stdout"
        }
      ]
    },
    {
      "cell_type": "code",
      "metadata": {
        "colab": {
          "base_uri": "https://localhost:8080/",
          "height": 306
        },
        "id": "yBp45ZNwepH7",
        "outputId": "793c8f90-55f1-42e0-cbd6-e8e2076be7e4"
      },
      "source": [
        "import matplotlib.pyplot as plt\n",
        "exact_output = timeseries_data = amazon[-date_ahead-1:]\n",
        "plt.scatter(range(0,6),predict_output, label ='Amazon predict output')\n",
        "plt.scatter(range(0,6), exact_output, label = 'Amazon exact output')\n",
        "plt.legend()\n",
        "plt.show()    \n",
        "print('% error:\\n', (predict_output - exact_output)/exact_output * 100) "
      ],
      "id": "yBp45ZNwepH7",
      "execution_count": 28,
      "outputs": [
        {
          "output_type": "display_data",
          "data": {
            "image/png": "[encoded data removed]",
            "text/plain": [
              "<Figure size 432x288 with 1 Axes>"
            ]
          },
          "metadata": {
            "tags": [],
            "needs_background": "light"
          }
        },
        {
          "output_type": "stream",
          "text": [
            "% error:\n",
            " [ 0.18943763 -1.45423854 -2.67540252 -1.37065682 -1.23114318 -1.69353685]\n"
          ],
          "name": "stdout"
        }
      ]
    },
    {
      "cell_type": "markdown",
      "metadata": {
        "id": "qs-fLJ2D9Gzp"
      },
      "source": [
        "7 days steps"
      ],
      "id": "qs-fLJ2D9Gzp"
    },
    {
      "cell_type": "code",
      "metadata": {
        "colab": {
          "base_uri": "https://localhost:8080/"
        },
        "id": "nd2oX5QQ9KXn",
        "outputId": "838e3abe-c260-4703-deea-dbda98cbbeb9"
      },
      "source": [
        "# define input sequence\n",
        "timeseries_data = amazon[:-7]\n",
        "a = np.min(timeseries_data)\n",
        "b = np.max(timeseries_data)\n",
        "date_ahead = 5\n",
        "XX = rescale(timeseries_data,a,b)\n",
        "yy = LSTM_predict(XX, 7, 1, date_ahead)\n",
        "predict_output = revertscale(yy,a,b)"
      ],
      "id": "nd2oX5QQ9KXn",
      "execution_count": 10,
      "outputs": [
        {
          "output_type": "stream",
          "text": [
            "WARNING:tensorflow:Layer lstm_1 will not use cuDNN kernel since it doesn't meet the cuDNN kernel criteria. It will use generic GPU kernel as fallback when running on GPU\n"
          ],
          "name": "stdout"
        }
      ]
    },
    {
      "cell_type": "code",
      "metadata": {
        "colab": {
          "base_uri": "https://localhost:8080/",
          "height": 306
        },
        "id": "RxylBrOM-Vx2",
        "outputId": "8369aa35-a38d-4634-b260-9364779a5919"
      },
      "source": [
        "import matplotlib.pyplot as plt\n",
        "exact_output = timeseries_data = amazon[-date_ahead-1:]\n",
        "plt.scatter(range(0,6),predict_output, label ='Amazon predict output')\n",
        "plt.scatter(range(0,6), exact_output, label = 'Amazon exact output')\n",
        "plt.legend()\n",
        "plt.show()    \n",
        "print('% error:\\n', (predict_output - exact_output)/exact_output * 100) "
      ],
      "id": "RxylBrOM-Vx2",
      "execution_count": 9,
      "outputs": [
        {
          "output_type": "display_data",
          "data": {
            "image/png": "[encoded data removed]",
            "text/plain": [
              "<Figure size 432x288 with 1 Axes>"
            ]
          },
          "metadata": {
            "tags": [],
            "needs_background": "light"
          }
        },
        {
          "output_type": "stream",
          "text": [
            "% error:\n",
            " [ 1.56312491 -0.87100233 -2.76417103 -1.99608457 -2.34627462 -3.17359215]\n"
          ],
          "name": "stdout"
        }
      ]
    },
    {
      "cell_type": "code",
      "metadata": {
        "colab": {
          "base_uri": "https://localhost:8080/",
          "height": 306
        },
        "id": "dIwaiEm1_Fga",
        "outputId": "22a5fd1b-cebe-4ff3-a26c-1b560c7a73af"
      },
      "source": [
        "import matplotlib.pyplot as plt\n",
        "exact_output = timeseries_data = amazon[-date_ahead-1:]\n",
        "plt.scatter(range(0,6),predict_output, label ='Amazon predict output')\n",
        "plt.scatter(range(0,6), exact_output, label = 'Amazon exact output')\n",
        "plt.legend()\n",
        "plt.show()    \n",
        "print('% error:\\n', (predict_output - exact_output)/exact_output * 100) "
      ],
      "id": "dIwaiEm1_Fga",
      "execution_count": 11,
      "outputs": [
        {
          "output_type": "display_data",
          "data": {
            "image/png": "[encoded data removed]",
            "text/plain": [
              "<Figure size 432x288 with 1 Axes>"
            ]
          },
          "metadata": {
            "tags": [],
            "needs_background": "light"
          }
        },
        {
          "output_type": "stream",
          "text": [
            "% error:\n",
            " [ 2.22380514  0.40209839 -0.97981287  0.24618905  0.30255065 -0.16439019]\n"
          ],
          "name": "stdout"
        }
      ]
    }
  ]
}